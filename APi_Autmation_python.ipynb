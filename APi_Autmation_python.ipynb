{
  "nbformat": 4,
  "nbformat_minor": 0,
  "metadata": {
    "colab": {
      "provenance": [],
      "authorship_tag": "ABX9TyOm060fsX6Ig441w3Vv8979",
      "include_colab_link": true
    },
    "kernelspec": {
      "name": "python3",
      "display_name": "Python 3"
    },
    "language_info": {
      "name": "python"
    }
  },
  "cells": [
    {
      "cell_type": "markdown",
      "metadata": {
        "id": "view-in-github",
        "colab_type": "text"
      },
      "source": [
        "<a href=\"https://colab.research.google.com/github/SidarthaWijaya/API-Automation-python/blob/main/APi_Autmation_python.ipynb\" target=\"_parent\"><img src=\"https://colab.research.google.com/assets/colab-badge.svg\" alt=\"Open In Colab\"/></a>"
      ]
    },
    {
      "cell_type": "code",
      "execution_count": 23,
      "metadata": {
        "colab": {
          "base_uri": "https://localhost:8080/"
        },
        "id": "ghKl6zj01NP3",
        "outputId": "f44a5e15-7572-43c0-ff44-80b01183a570"
      },
      "outputs": [
        {
          "output_type": "stream",
          "name": "stdout",
          "text": [
            "Requirement already satisfied: pytest in /usr/local/lib/python3.10/dist-packages (7.4.4)\n",
            "Requirement already satisfied: iniconfig in /usr/local/lib/python3.10/dist-packages (from pytest) (2.0.0)\n",
            "Requirement already satisfied: packaging in /usr/local/lib/python3.10/dist-packages (from pytest) (24.0)\n",
            "Requirement already satisfied: pluggy<2.0,>=0.12 in /usr/local/lib/python3.10/dist-packages (from pytest) (1.5.0)\n",
            "Requirement already satisfied: exceptiongroup>=1.0.0rc8 in /usr/local/lib/python3.10/dist-packages (from pytest) (1.2.1)\n",
            "Requirement already satisfied: tomli>=1.0.0 in /usr/local/lib/python3.10/dist-packages (from pytest) (2.0.1)\n",
            "Requirement already satisfied: requests in /usr/local/lib/python3.10/dist-packages (2.31.0)\n",
            "Requirement already satisfied: charset-normalizer<4,>=2 in /usr/local/lib/python3.10/dist-packages (from requests) (3.3.2)\n",
            "Requirement already satisfied: idna<4,>=2.5 in /usr/local/lib/python3.10/dist-packages (from requests) (3.7)\n",
            "Requirement already satisfied: urllib3<3,>=1.21.1 in /usr/local/lib/python3.10/dist-packages (from requests) (2.0.7)\n",
            "Requirement already satisfied: certifi>=2017.4.17 in /usr/local/lib/python3.10/dist-packages (from requests) (2024.2.2)\n"
          ]
        }
      ],
      "source": [
        "%pip install pytest\n",
        "%pip install requests"
      ]
    },
    {
      "cell_type": "code",
      "source": [
        "import logging\n",
        "\n",
        "logging.basicConfig(level=logging.INFO)\n",
        "\n",
        "import requests\n"
      ],
      "metadata": {
        "id": "N8y9LIPP2HXx"
      },
      "execution_count": 24,
      "outputs": []
    },
    {
      "cell_type": "code",
      "source": [
        "\n",
        "def make_request(method, url, **kwargs):\n",
        "    response = requests.request(method, url, **kwargs)\n",
        "    return response"
      ],
      "metadata": {
        "id": "aQ3eqs_Y2Lnn"
      },
      "execution_count": 25,
      "outputs": []
    },
    {
      "cell_type": "code",
      "source": [
        "def test_get_user():\n",
        "  base_url = \"https://reqres.in/api/users/2\"\n",
        "  response = make_request(\"GET\", base_url)\n",
        "\n",
        "  logging.info(f\"URL: {base_url}\")\n",
        "  logging.info(f\"Response Status Code: {response.status_code}\")\n",
        "  logging.info(f\"Response JSON: {response.json()}\")\n",
        "\n",
        "  assert response.status_code == 200, f\"Expected status code 200 but got {response.status_code}\"\n",
        "\n",
        "  json_response = response.json()\n",
        "  assert \"data\" in json_response, \"Expected 'data' in response JSON\"\n",
        "\n",
        "  user_data = json_response[\"data\"]\n",
        "  assert user_data[\"id\"] == 2, f\"Expected user ID 2 but got {user_data.get('id')}\"\n",
        "  assert user_data[\"email\"] == \"janet.weaver@reqres.in\", f\"Expected email 'janet.weaver@reqres.in' but got {user_data.get('email')}\"\n",
        "  assert user_data[\"first_name\"] == \"Janet\", f\"Expected first name 'Janet' but got {user_data.get('first_name')}\"\n",
        "  assert user_data[\"last_name\"] == \"Weaver\", f\"Expected last name 'Weaver' but got {user_data.get('last_name')}\""
      ],
      "metadata": {
        "id": "ZsmeS0wX2Oyv"
      },
      "execution_count": 40,
      "outputs": []
    },
    {
      "cell_type": "code",
      "source": [
        "def test_create_user():\n",
        "  base_url = \"https://reqres.in/api/users\"\n",
        "  payload = {\n",
        "  \"name\": \"\",\n",
        "  \"job\": \"Software Engineer\"\n",
        "  }\n",
        "  response = make_request(\"POST\", base_url, json=payload)\n",
        "\n",
        "  logging.info(f\"URL: {base_url}\")\n",
        "  logging.info(f\"Payload: {payload}\")\n",
        "  logging.info(f\"Response Status Code: {response.status_code}\")\n",
        "  logging.info(f\"Response JSON: {response.json()}\")\n",
        "\n",
        "  assert response.status_code == 201, f\"Expected status code 201 but got {response.status_code}\"\n",
        "\n",
        "  json_response = response.json()\n",
        "  assert \"id\" in json_response, \"Expected 'id' in response JSON\"\n",
        "  assert json_response[\"name\"] == \"John Doe\", f\"Expected name 'John Doe' but got {json_response.get('name')}\"\n",
        "  assert json_response[\"job\"] == \"Software Engineer\", f\"Expected job 'Software Engineer' but got {json_response.get('job')}\"\n",
        "  assert \"createdAt\" in json_response, \"Expected 'createdAt' in response JSON\""
      ],
      "metadata": {
        "id": "eKAfyMqT2V9T"
      },
      "execution_count": 41,
      "outputs": []
    },
    {
      "cell_type": "code",
      "source": [
        "with open('test_reqres.py', 'w') as f:\n",
        "    f.write(\"\"\"\n",
        "import pytest\n",
        "import requests\n",
        "import logging\n",
        "\n",
        "# Configure logging for the test file\n",
        "logging.basicConfig(level=logging.INFO)\n",
        "logger = logging.getLogger(__name__)\n",
        "\n",
        "def make_request(method, url, **kwargs):\n",
        "    response = requests.request(method, url, **kwargs)\n",
        "    return response\n",
        "\n",
        "def test_get_user():\n",
        "  base_url = \"https://reqres.in/api/users/2\"\n",
        "  response = make_request(\"GET\", base_url)\n",
        "\n",
        "  logging.info(f\"URL: {base_url}\")\n",
        "  logging.info(f\"Response Status Code: {response.status_code}\")\n",
        "  logging.info(f\"Response JSON: {response.json()}\")\n",
        "\n",
        "  assert response.status_code == 200, f\"Expected status code 200 but got {response.status_code}\"\n",
        "\n",
        "  json_response = response.json()\n",
        "  assert \"data\" in json_response, \"Expected 'data' in response JSON\"\n",
        "\n",
        "  user_data = json_response[\"data\"]\n",
        "  assert user_data[\"id\"] == 2, f\"Expected user ID 2 but got {user_data.get('id')}\"\n",
        "  assert user_data[\"email\"] == \"janet.weaver@reqres.in\", f\"Expected email 'janet.weaver@reqres.in' but got {user_data.get('email')}\"\n",
        "  assert user_data[\"first_name\"] == \"Janet\", f\"Expected first name 'Janet' but got {user_data.get('first_name')}\"\n",
        "  assert user_data[\"last_name\"] == \"Weaver\", f\"Expected last name 'Weaver' but got {user_data.get('last_name')}\"\n",
        "\n",
        "def test_create_user():\n",
        "  base_url = \"https://reqres.in/api/users\"\n",
        "  payload = {\n",
        "  \"name\": \"\",\n",
        "  \"job\": \"Software Engineer\"\n",
        "  }\n",
        "  response = make_request(\"POST\", base_url, json=payload)\n",
        "\n",
        "  logging.info(f\"URL: {base_url}\")\n",
        "  logging.info(f\"Payload: {payload}\")\n",
        "  logging.info(f\"Response Status Code: {response.status_code}\")\n",
        "  logging.info(f\"Response JSON: {response.json()}\")\n",
        "\n",
        "  assert response.status_code == 201, f\"Expected status code 201 but got {response.status_code}\"\n",
        "\n",
        "  json_response = response.json()\n",
        "  assert \"id\" in json_response, \"Expected 'id' in response JSON\"\n",
        "  assert json_response[\"name\"] == \"John Doe\", f\"Expected name 'John Doe' but got {json_response.get('name')}\"\n",
        "  assert json_response[\"job\"] == \"Software Engineer\", f\"Expected job 'Software Engineer' but got {json_response.get('job')}\"\n",
        "  assert \"createdAt\" in json_response, \"Expected 'createdAt' in response JSON\"\n",
        "\"\"\")\n"
      ],
      "metadata": {
        "id": "VSamjD4d5C2B"
      },
      "execution_count": 42,
      "outputs": []
    },
    {
      "cell_type": "code",
      "source": [
        "!pytest test_reqres.py"
      ],
      "metadata": {
        "colab": {
          "base_uri": "https://localhost:8080/"
        },
        "id": "O8HxRFNH5LSi",
        "outputId": "4a323755-d724-4e10-9b8b-a4e6a2b05208"
      },
      "execution_count": 43,
      "outputs": [
        {
          "output_type": "stream",
          "name": "stdout",
          "text": [
            "\u001b[1m======================================= test session starts ========================================\u001b[0m\n",
            "platform linux -- Python 3.10.12, pytest-7.4.4, pluggy-1.5.0\n",
            "rootdir: /content\n",
            "plugins: anyio-3.7.1\n",
            "\u001b[1mcollecting ... \u001b[0m\u001b[1m\rcollected 2 items                                                                                  \u001b[0m\n",
            "\n",
            "test_reqres.py \u001b[32m.\u001b[0m\u001b[31mF\u001b[0m\u001b[31m                                                                            [100%]\u001b[0m\n",
            "\n",
            "============================================= FAILURES =============================================\n",
            "\u001b[31m\u001b[1m_________________________________________ test_create_user _________________________________________\u001b[0m\n",
            "\n",
            "    \u001b[94mdef\u001b[39;49;00m \u001b[92mtest_create_user\u001b[39;49;00m():\u001b[90m\u001b[39;49;00m\n",
            "      base_url = \u001b[33m\"\u001b[39;49;00m\u001b[33mhttps://reqres.in/api/users\u001b[39;49;00m\u001b[33m\"\u001b[39;49;00m\u001b[90m\u001b[39;49;00m\n",
            "      payload = {\u001b[90m\u001b[39;49;00m\n",
            "      \u001b[33m\"\u001b[39;49;00m\u001b[33mname\u001b[39;49;00m\u001b[33m\"\u001b[39;49;00m: \u001b[33m\"\u001b[39;49;00m\u001b[33m\"\u001b[39;49;00m,\u001b[90m\u001b[39;49;00m\n",
            "      \u001b[33m\"\u001b[39;49;00m\u001b[33mjob\u001b[39;49;00m\u001b[33m\"\u001b[39;49;00m: \u001b[33m\"\u001b[39;49;00m\u001b[33mSoftware Engineer\u001b[39;49;00m\u001b[33m\"\u001b[39;49;00m\u001b[90m\u001b[39;49;00m\n",
            "      }\u001b[90m\u001b[39;49;00m\n",
            "      response = make_request(\u001b[33m\"\u001b[39;49;00m\u001b[33mPOST\u001b[39;49;00m\u001b[33m\"\u001b[39;49;00m, base_url, json=payload)\u001b[90m\u001b[39;49;00m\n",
            "    \u001b[90m\u001b[39;49;00m\n",
            "      logging.info(\u001b[33mf\u001b[39;49;00m\u001b[33m\"\u001b[39;49;00m\u001b[33mURL: \u001b[39;49;00m\u001b[33m{\u001b[39;49;00mbase_url\u001b[33m}\u001b[39;49;00m\u001b[33m\"\u001b[39;49;00m)\u001b[90m\u001b[39;49;00m\n",
            "      logging.info(\u001b[33mf\u001b[39;49;00m\u001b[33m\"\u001b[39;49;00m\u001b[33mPayload: \u001b[39;49;00m\u001b[33m{\u001b[39;49;00mpayload\u001b[33m}\u001b[39;49;00m\u001b[33m\"\u001b[39;49;00m)\u001b[90m\u001b[39;49;00m\n",
            "      logging.info(\u001b[33mf\u001b[39;49;00m\u001b[33m\"\u001b[39;49;00m\u001b[33mResponse Status Code: \u001b[39;49;00m\u001b[33m{\u001b[39;49;00mresponse.status_code\u001b[33m}\u001b[39;49;00m\u001b[33m\"\u001b[39;49;00m)\u001b[90m\u001b[39;49;00m\n",
            "      logging.info(\u001b[33mf\u001b[39;49;00m\u001b[33m\"\u001b[39;49;00m\u001b[33mResponse JSON: \u001b[39;49;00m\u001b[33m{\u001b[39;49;00mresponse.json()\u001b[33m}\u001b[39;49;00m\u001b[33m\"\u001b[39;49;00m)\u001b[90m\u001b[39;49;00m\n",
            "    \u001b[90m\u001b[39;49;00m\n",
            "      \u001b[94massert\u001b[39;49;00m response.status_code == \u001b[94m201\u001b[39;49;00m, \u001b[33mf\u001b[39;49;00m\u001b[33m\"\u001b[39;49;00m\u001b[33mExpected status code 201 but got \u001b[39;49;00m\u001b[33m{\u001b[39;49;00mresponse.status_code\u001b[33m}\u001b[39;49;00m\u001b[33m\"\u001b[39;49;00m\u001b[90m\u001b[39;49;00m\n",
            "    \u001b[90m\u001b[39;49;00m\n",
            "      json_response = response.json()\u001b[90m\u001b[39;49;00m\n",
            "      \u001b[94massert\u001b[39;49;00m \u001b[33m\"\u001b[39;49;00m\u001b[33mid\u001b[39;49;00m\u001b[33m\"\u001b[39;49;00m \u001b[95min\u001b[39;49;00m json_response, \u001b[33m\"\u001b[39;49;00m\u001b[33mExpected \u001b[39;49;00m\u001b[33m'\u001b[39;49;00m\u001b[33mid\u001b[39;49;00m\u001b[33m'\u001b[39;49;00m\u001b[33m in response JSON\u001b[39;49;00m\u001b[33m\"\u001b[39;49;00m\u001b[90m\u001b[39;49;00m\n",
            ">     \u001b[94massert\u001b[39;49;00m json_response[\u001b[33m\"\u001b[39;49;00m\u001b[33mname\u001b[39;49;00m\u001b[33m\"\u001b[39;49;00m] == \u001b[33m\"\u001b[39;49;00m\u001b[33mJohn Doe\u001b[39;49;00m\u001b[33m\"\u001b[39;49;00m, \u001b[33mf\u001b[39;49;00m\u001b[33m\"\u001b[39;49;00m\u001b[33mExpected name \u001b[39;49;00m\u001b[33m'\u001b[39;49;00m\u001b[33mJohn Doe\u001b[39;49;00m\u001b[33m'\u001b[39;49;00m\u001b[33m but got \u001b[39;49;00m\u001b[33m{\u001b[39;49;00mjson_response.get(\u001b[33m'\u001b[39;49;00m\u001b[33mname\u001b[39;49;00m\u001b[33m'\u001b[39;49;00m)\u001b[33m}\u001b[39;49;00m\u001b[33m\"\u001b[39;49;00m\u001b[90m\u001b[39;49;00m\n",
            "\u001b[1m\u001b[31mE     AssertionError: Expected name 'John Doe' but got \u001b[0m\n",
            "\u001b[1m\u001b[31mE     assert '' == 'John Doe'\u001b[0m\n",
            "\u001b[1m\u001b[31mE       - John Doe\u001b[0m\n",
            "\n",
            "\u001b[1m\u001b[31mtest_reqres.py\u001b[0m:50: AssertionError\n",
            "\u001b[36m\u001b[1m===================================== short test summary info ======================================\u001b[0m\n",
            "\u001b[31mFAILED\u001b[0m test_reqres.py::\u001b[1mtest_create_user\u001b[0m - AssertionError: Expected name 'John Doe' but got \n",
            "\u001b[31m=================================== \u001b[31m\u001b[1m1 failed\u001b[0m, \u001b[32m1 passed\u001b[0m\u001b[31m in 0.96s\u001b[0m\u001b[31m ====================================\u001b[0m\n"
          ]
        }
      ]
    }
  ]
}